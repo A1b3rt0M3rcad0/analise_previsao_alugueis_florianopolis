{
 "cells": [
  {
   "cell_type": "markdown",
   "id": "8e07ae99",
   "metadata": {},
   "source": [
    "# Importando bibliotecas"
   ]
  },
  {
   "cell_type": "code",
   "execution_count": 1,
   "id": "74e78c6c",
   "metadata": {},
   "outputs": [],
   "source": [
    "from time import sleep\n",
    "import selenium\n",
    "from selenium import webdriver\n",
    "from webdriver_manager.chrome import ChromeDriverManager\n",
    "from selenium.webdriver.chrome.service import Service\n",
    "from selenium.webdriver.common.by import By\n",
    "import requests\n",
    "from bs4 import BeautifulSoup\n",
    "import pandas as pd\n",
    "import re"
   ]
  },
  {
   "cell_type": "markdown",
   "id": "b84c9ca3",
   "metadata": {},
   "source": [
    "#### URL da pagina inicial e cabeçalho"
   ]
  },
  {
   "cell_type": "code",
   "execution_count": 2,
   "id": "8514b106",
   "metadata": {},
   "outputs": [],
   "source": [
    "url = 'https://www.vivareal.com.br/aluguel/santa-catarina/florianopolis/?pagina=1#onde=Brasil,Santa%20Catarina,Florian%C3%B3polis,,,,,,BR%3ESanta%20Catarina%3ENULL%3EFlorianopolis,,,'\n",
    "header = {'user-agent':'Mozilla/5.0 (Windows NT 10.0; Win64; x64) AppleWebKit/537.36 (KHTML, like Gecko) Chrome/115.0.0.0 Safari/537.36 Edg/115.0.1901.183'}\n",
    "html = requests.get(url, headers=header)"
   ]
  },
  {
   "cell_type": "markdown",
   "id": "de3f997b",
   "metadata": {},
   "source": [
    "# Scraper\n",
    "#### Classe principal que fará a busca dos dados na web"
   ]
  },
  {
   "cell_type": "code",
   "execution_count": 15,
   "id": "2eb6b28e",
   "metadata": {},
   "outputs": [],
   "source": [
    "class Scraper:\n",
    "    \n",
    "    def __init__(self, url, header):\n",
    "        self.url = url\n",
    "        self.soup = []\n",
    "        self.header = header\n",
    "        self.data = []\n",
    "        self.service = []\n",
    "        self.nav = []\n",
    "\n",
    "    def start_drive(self):\n",
    "        self.service = Service(ChromeDriverManager().install())\n",
    "        self.nav = webdriver.Chrome(service=self.service)\n",
    "        self.nav.get(self.url)\n",
    "        html_page = self.nav.page_source\n",
    "        self.soup = BeautifulSoup(html_page, 'html.parser')\n",
    "    \n",
    "    def next_page(self, timeout=5):\n",
    "        # Checa o button\n",
    "        button = self.soup.find_all('button', {'title': 'Próxima página'})[0]\n",
    "        if button.attrs['data-page'] != '':\n",
    "            # Pula a página\n",
    "            element = scraper.nav.find_element(By.XPATH, '//*[@id=\"js-site-main\"]/div[2]/div[1]/section/div[2]/div[2]/div/ul/li[9]/button')\n",
    "            element.click()\n",
    "            # Pega o soup\n",
    "            html_page = self.nav.page_source\n",
    "            self.soup = BeautifulSoup(html_page, 'html.parser')\n",
    "        else:\n",
    "            return False\n",
    "        \n",
    "    def collect_data(self):\n",
    "        \n",
    "        ## Lista temporaria de atributos\n",
    "        data = []\n",
    "        \n",
    "        ## range da lista de propriedades\n",
    "        list_propertys = self.soup.find_all('div', {'class': 'results-list js-results-list'})[0]\n",
    "        range_list = len(list_propertys.find_all('article'))\n",
    "        \n",
    "        ## Laço para buscar os atributos em cada casa\n",
    "        for i in range(range_list):\n",
    "            \n",
    "            ## Coletando preço dos alugueis\n",
    "            price = self.soup.find_all('div', {'class': 'property-card__price js-property-card-prices js-property-card__price-small'})[i]\n",
    "            house_price = price.p.contents[0].strip()\n",
    "            rental_result = house_price\n",
    "            data.append(rental_result)\n",
    "            \n",
    "            ## Coletando tipo do aluguel\n",
    "            rental_type = self.soup.find_all('span', {'class': 'property-card__price-period'})[i]\n",
    "            house_rental_type = rental_type.contents[0]\n",
    "            data.append(house_rental_type)\n",
    "            \n",
    "            ## Coletando metros quadrados da casa\n",
    "            house_area = scraper.soup.find_all('span', {'class': 'property-card__detail-value js-property-card-value property-card__detail-area js-property-card-detail-area'})[i]\n",
    "            area = house_area.contents[0].strip()\n",
    "            data.append(area)\n",
    "            \n",
    "            ## Coletando dados do número de quartos\n",
    "            house_bedrooms = scraper.soup.find_all('li', {'class': 'property-card__detail-item property-card__detail-room js-property-detail-rooms'})\n",
    "            house_bedrooms = house_bedrooms[i]\n",
    "            bedrooms = house_bedrooms.find_all('span', {'class': 'property-card__detail-value js-property-card-value'})[0]\n",
    "            bedrooms = bedrooms.contents[0].strip()\n",
    "            data.append(bedrooms)\n",
    "            \n",
    "            ## Coletando número de banheiros\n",
    "            house_restrooms = scraper.soup.find_all('li', {'class': 'property-card__detail-item property-card__detail-bathroom js-property-detail-bathroom'})\n",
    "            house_restrooms = house_restrooms[i].find_all('span', {'class': 'property-card__detail-value js-property-card-value'})\n",
    "            restrooms = house_restrooms[0].contents[0].strip()\n",
    "            data.append(restrooms)\n",
    "            \n",
    "            ## Coletando quantidade de vagas\n",
    "            house_parking_space = scraper.soup.find_all('li', {'class': 'property-card__detail-item property-card__detail-garage js-property-detail-garages'})\n",
    "            parking_space = house_parking_space[i].find_all('span', {'class': 'property-card__detail-value js-property-card-value'})[0]\n",
    "            parking_space = parking_space.contents[0].strip()\n",
    "            data.append(parking_space)\n",
    "            \n",
    "            ## Coletando endereço\n",
    "            house_address = scraper.soup.find_all('span', {'class': 'property-card__address'})\n",
    "            address = house_address[i].contents[0]\n",
    "            data.append(address)\n",
    "            \n",
    "            ## Salvando Atributos\n",
    "            self.data.append(data)\n",
    "            \n",
    "            ## limpando data\n",
    "            data = []"
   ]
  },
  {
   "cell_type": "markdown",
   "id": "ea3c92fa",
   "metadata": {},
   "source": [
    "## Fazendo a coleta de dados"
   ]
  },
  {
   "cell_type": "code",
   "execution_count": 4,
   "id": "e009ec60",
   "metadata": {},
   "outputs": [],
   "source": [
    "## Criando scraper\n",
    "scraper = Scraper(url, header)\n",
    "scraper.start_drive()"
   ]
  },
  {
   "cell_type": "code",
   "execution_count": 19,
   "id": "e9f0b8a6",
   "metadata": {},
   "outputs": [],
   "source": [
    "## Laço principal\n",
    "sleep(10)\n",
    "while True:\n",
    "    scraper.collect_data()\n",
    "    status = scraper.next_page()\n",
    "    if status:\n",
    "        break\n",
    "    sleep(4)"
   ]
  },
  {
   "cell_type": "markdown",
   "id": "1a7eec93",
   "metadata": {},
   "source": [
    "## Salvando a tabela"
   ]
  },
  {
   "cell_type": "code",
   "execution_count": 12,
   "id": "0ea1812f",
   "metadata": {},
   "outputs": [],
   "source": [
    "# Criando a tabela\n",
    "df = pd.DataFrame(scraper.data, columns=['rental', 'rental_type', 'm2', 'nbeds', 'nrests', 'parking_space', 'address'])"
   ]
  },
  {
   "cell_type": "code",
   "execution_count": 13,
   "id": "197ceaf5",
   "metadata": {},
   "outputs": [],
   "source": [
    "## Salvando tabela\n",
    "df.to_csv('rental_dataset', index=False)"
   ]
  },
  {
   "cell_type": "code",
   "execution_count": 20,
   "id": "25fc65b3",
   "metadata": {},
   "outputs": [
    {
     "data": {
      "text/html": [
       "<div>\n",
       "<style scoped>\n",
       "    .dataframe tbody tr th:only-of-type {\n",
       "        vertical-align: middle;\n",
       "    }\n",
       "\n",
       "    .dataframe tbody tr th {\n",
       "        vertical-align: top;\n",
       "    }\n",
       "\n",
       "    .dataframe thead th {\n",
       "        text-align: right;\n",
       "    }\n",
       "</style>\n",
       "<table border=\"1\" class=\"dataframe\">\n",
       "  <thead>\n",
       "    <tr style=\"text-align: right;\">\n",
       "      <th></th>\n",
       "      <th>rental</th>\n",
       "      <th>rental_type</th>\n",
       "      <th>m2</th>\n",
       "      <th>nbeds</th>\n",
       "      <th>nrests</th>\n",
       "      <th>parking_space</th>\n",
       "      <th>address</th>\n",
       "    </tr>\n",
       "  </thead>\n",
       "  <tbody>\n",
       "    <tr>\n",
       "      <th>0</th>\n",
       "      <td>R$ 5.500</td>\n",
       "      <td>/Mês</td>\n",
       "      <td>150</td>\n",
       "      <td>3</td>\n",
       "      <td>2</td>\n",
       "      <td>1</td>\n",
       "      <td>Rodovia Tertuliano Brito Xavier - Jurerê, Flor...</td>\n",
       "    </tr>\n",
       "    <tr>\n",
       "      <th>1</th>\n",
       "      <td>R$ 1.850</td>\n",
       "      <td>/Mês</td>\n",
       "      <td>70</td>\n",
       "      <td>2</td>\n",
       "      <td>2</td>\n",
       "      <td>2</td>\n",
       "      <td>Rua Professor Clementino de Brito, 77 - Capoei...</td>\n",
       "    </tr>\n",
       "    <tr>\n",
       "      <th>2</th>\n",
       "      <td>R$ 6.600</td>\n",
       "      <td>/Mês</td>\n",
       "      <td>300</td>\n",
       "      <td>4</td>\n",
       "      <td>5</td>\n",
       "      <td>4</td>\n",
       "      <td>Santinho, Florianópolis - SC</td>\n",
       "    </tr>\n",
       "    <tr>\n",
       "      <th>3</th>\n",
       "      <td>R$ 1.200</td>\n",
       "      <td>/Mês</td>\n",
       "      <td>43</td>\n",
       "      <td>--</td>\n",
       "      <td>1</td>\n",
       "      <td>1</td>\n",
       "      <td>Rua Campolino Alves, 84 - Capoeiras, Florianóp...</td>\n",
       "    </tr>\n",
       "    <tr>\n",
       "      <th>4</th>\n",
       "      <td>R$ 2.200</td>\n",
       "      <td>/Mês</td>\n",
       "      <td>60</td>\n",
       "      <td>2</td>\n",
       "      <td>2</td>\n",
       "      <td>1</td>\n",
       "      <td>Rua João Meirelles, 884 - Abraão, Florianópoli...</td>\n",
       "    </tr>\n",
       "  </tbody>\n",
       "</table>\n",
       "</div>"
      ],
      "text/plain": [
       "     rental rental_type   m2 nbeds nrests parking_space  \\\n",
       "0  R$ 5.500        /Mês  150     3      2             1   \n",
       "1  R$ 1.850        /Mês   70     2      2             2   \n",
       "2  R$ 6.600        /Mês  300     4      5             4   \n",
       "3  R$ 1.200        /Mês   43    --      1             1   \n",
       "4  R$ 2.200        /Mês   60     2      2             1   \n",
       "\n",
       "                                             address  \n",
       "0  Rodovia Tertuliano Brito Xavier - Jurerê, Flor...  \n",
       "1  Rua Professor Clementino de Brito, 77 - Capoei...  \n",
       "2                       Santinho, Florianópolis - SC  \n",
       "3  Rua Campolino Alves, 84 - Capoeiras, Florianóp...  \n",
       "4  Rua João Meirelles, 884 - Abraão, Florianópoli...  "
      ]
     },
     "execution_count": 20,
     "metadata": {},
     "output_type": "execute_result"
    }
   ],
   "source": [
    "## Dando uma espiada na tabela\n",
    "dataset = pd.read_csv('rental_dataset')\n",
    "dataset.head()"
   ]
  }
 ],
 "metadata": {
  "kernelspec": {
   "display_name": "Python 3 (ipykernel)",
   "language": "python",
   "name": "python3"
  },
  "language_info": {
   "codemirror_mode": {
    "name": "ipython",
    "version": 3
   },
   "file_extension": ".py",
   "mimetype": "text/x-python",
   "name": "python",
   "nbconvert_exporter": "python",
   "pygments_lexer": "ipython3",
   "version": "3.9.17"
  }
 },
 "nbformat": 4,
 "nbformat_minor": 5
}
